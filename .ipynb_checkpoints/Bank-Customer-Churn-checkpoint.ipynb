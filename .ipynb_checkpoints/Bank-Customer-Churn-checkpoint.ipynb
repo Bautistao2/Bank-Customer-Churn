{
 "cells": [
  {
   "cell_type": "markdown",
   "id": "b0c3d792",
   "metadata": {},
   "source": [
    "### Importing Packages"
   ]
  },
  {
   "cell_type": "code",
   "execution_count": null,
   "id": "e407c195",
   "metadata": {},
   "outputs": [],
   "source": [
    "##Main libraries\n",
    "import pandas as pd\n",
    "import numpy as np\n",
    "\n",
    "##Visualization Libraries\n",
    "import matplotlib.pyplot as plt\n",
    "import seaborn as sns\n",
    "import plotly.express as px\n",
    "import plotly.graph_objects as go\n",
    "from plotly.subplots import make_subplots\n",
    "import plotly.colors as pc\n",
    "\n",
    "\n",
    "##Libraries to Preprocessing\n",
    "from sklearn.preprocessing import StandardScaler, LabelEncoder\n",
    "\n",
    "## Libraries to make predictor model\n",
    "\n",
    "## ignore warnings\n",
    "import warnings\n",
    "warnings.filterwarnings('ignore')\n"
   ]
  },
  {
   "cell_type": "markdown",
   "id": "645a5da5",
   "metadata": {},
   "source": [
    "### Import and Load Data"
   ]
  },
  {
   "cell_type": "code",
   "execution_count": null,
   "id": "d429cff6",
   "metadata": {},
   "outputs": [],
   "source": [
    "df=pd.read_csv(\"C:/Users/ostab/Downloads/Bank-Customer-Churn/Customer-Churn-Records.csv\")\n",
    "df.head()"
   ]
  },
  {
   "cell_type": "code",
   "execution_count": null,
   "id": "255c85e4",
   "metadata": {},
   "outputs": [],
   "source": [
    "#Show the num. of cols and rows\n",
    "df.shape"
   ]
  },
  {
   "cell_type": "code",
   "execution_count": null,
   "id": "67fe769b",
   "metadata": {},
   "outputs": [],
   "source": [
    "# Check variable data types\n",
    "df.dtypes"
   ]
  },
  {
   "cell_type": "code",
   "execution_count": null,
   "id": "9121c94b",
   "metadata": {},
   "outputs": [],
   "source": [
    "#Some information about Data\n",
    "df.info()"
   ]
  },
  {
   "cell_type": "code",
   "execution_count": null,
   "id": "689946b2",
   "metadata": {},
   "outputs": [],
   "source": [
    "#Statistics information about Data, include numerical columns\n",
    "df.describe()"
   ]
  },
  {
   "cell_type": "code",
   "execution_count": null,
   "id": "f6a73a29",
   "metadata": {},
   "outputs": [],
   "source": [
    "#Statistics information about Data, include categorical columns\n",
    "df.describe(exclude='number')"
   ]
  },
  {
   "cell_type": "code",
   "execution_count": null,
   "id": "e781945f",
   "metadata": {},
   "outputs": [],
   "source": [
    "#Statistics information about Data, include categorical columns\n",
    "df.describe(exclude='number')"
   ]
  },
  {
   "cell_type": "code",
   "execution_count": null,
   "id": "39ddd4b9",
   "metadata": {},
   "outputs": [],
   "source": [
    "#Check missing values\n",
    "df.isna().any() "
   ]
  },
  {
   "cell_type": "code",
   "execution_count": null,
   "id": "00056c3d",
   "metadata": {},
   "outputs": [],
   "source": [
    "#Check duplicated values in data\n",
    "df.duplicated().any() "
   ]
  },
  {
   "cell_type": "code",
   "execution_count": null,
   "id": "1f9cb236",
   "metadata": {},
   "outputs": [],
   "source": [
    "# Get unique count for each variable\n",
    "df.nunique()"
   ]
  },
  {
   "cell_type": "markdown",
   "id": "ed748d7e",
   "metadata": {},
   "source": [
    "**The Data have 10000 rows and 18 columns.**\n",
    "\n",
    "**No Missing Values in Data.**\n",
    "\n",
    "**No Duplicate Values in Data.**"
   ]
  },
  {
   "cell_type": "markdown",
   "id": "565dc761",
   "metadata": {},
   "source": [
    " # Exploratory Data Analysis"
   ]
  },
  {
   "cell_type": "markdown",
   "id": "20752594",
   "metadata": {},
   "source": [
    "### Uni-variate Analysis"
   ]
  },
  {
   "cell_type": "code",
   "execution_count": null,
   "id": "0a251496",
   "metadata": {
    "scrolled": false
   },
   "outputs": [],
   "source": [
    "#analyze the amount of exited customers\n",
    "\n",
    "labels = 'Exited', 'Retained'\n",
    "sizes = [df.Exited[df['Exited']==1].count(), df.Exited[df['Exited']==0].count()]\n",
    "explode = (0, 0.1)\n",
    "fig1, ax1 = plt.subplots(figsize=(5, 5))\n",
    "ax1.pie(sizes, explode=explode, labels=labels, autopct='%1.1f%%',\n",
    "        shadow= False, startangle=90)\n",
    "ax1.axis('equal')\n",
    "plt.title(\"Proportion of customer churned and retained\", size = 10)\n",
    "plt.show()"
   ]
  },
  {
   "cell_type": "code",
   "execution_count": null,
   "id": "fac2ba63",
   "metadata": {},
   "outputs": [],
   "source": [
    "fig= sns.countplot(df, x=\"Geography\", palette = \"Paired\")\n",
    "fig.set_xlabel(\"Geography\", fontsize=12)\n",
    "fig.set_ylabel(\"Count\", fontsize=12)\n",
    "fig.set_title(\"\", fontsize=12)\n",
    "sns.set_style(\"whitegrid\", {'grid.linestyle': '-.'})"
   ]
  },
  {
   "cell_type": "code",
   "execution_count": null,
   "id": "71443dbe",
   "metadata": {},
   "outputs": [],
   "source": [
    "fig= sns.countplot(df, x=\"Gender\", palette = \"Paired\")\n",
    "fig.set_xlabel(\"Gender \", fontsize=12)\n",
    "fig.set_ylabel(\"Count\", fontsize=12)\n",
    "fig.set_title(\"\", fontsize=12)\n",
    "sns.set_style(\"whitegrid\", {'grid.linestyle': '-.'})"
   ]
  },
  {
   "cell_type": "code",
   "execution_count": null,
   "id": "1e816bcb",
   "metadata": {
    "scrolled": true
   },
   "outputs": [],
   "source": [
    "fig= sns.distplot(df['Age'])\n",
    "fig.set_xlabel(\"Age\", fontsize=12)\n",
    "fig.set_ylabel(\"Count\", fontsize=12)\n",
    "fig.set_title(\"Age Distribution\", fontsize=12)\n",
    "sns.set_style(\"whitegrid\", {'grid.linestyle': '-.'})"
   ]
  },
  {
   "cell_type": "code",
   "execution_count": null,
   "id": "1b370c0d",
   "metadata": {},
   "outputs": [],
   "source": [
    "fig= sns.distplot(df['EstimatedSalary'])\n",
    "fig.set_xlabel(\"EstimatedSalary \", fontsize=12)\n",
    "fig.set_ylabel(\"Count\", fontsize=12)\n",
    "fig.set_title(\"Estimated Salary Distribution\", fontsize=12)\n",
    "sns.set_style(\"whitegrid\", {'grid.linestyle': '-.'})"
   ]
  },
  {
   "cell_type": "code",
   "execution_count": null,
   "id": "d3895769",
   "metadata": {},
   "outputs": [],
   "source": [
    "fig= sns.distplot(df['Point Earned'])\n",
    "fig.set_xlabel(\"Point Earned\", fontsize=12)\n",
    "fig.set_ylabel(\"Count\", fontsize=12)\n",
    "fig.set_title(\"Point Earned\", fontsize=12)\n",
    "sns.set_style(\"whitegrid\", {'grid.linestyle': '-.'})"
   ]
  },
  {
   "cell_type": "code",
   "execution_count": null,
   "id": "7e9616ce",
   "metadata": {
    "scrolled": true
   },
   "outputs": [],
   "source": [
    "fig= sns.countplot(df, x=\"Tenure\", palette = \"Paired\")\n",
    "fig.set_xlabel(\"Tenure\", fontsize=12)\n",
    "fig.set_ylabel(\"Count\", fontsize=12)\n",
    "fig.set_title(\"\", fontsize=12)\n",
    "sns.set_style(\"whitegrid\", {'grid.linestyle': '-.'})"
   ]
  },
  {
   "cell_type": "code",
   "execution_count": null,
   "id": "f1c2fb05",
   "metadata": {},
   "outputs": [],
   "source": [
    "fig= sns.distplot(df['Balance'])\n",
    "fig.set_xlabel(\"Balance\", fontsize=12)\n",
    "fig.set_ylabel(\"Count\", fontsize=12)\n",
    "fig.set_title(\"Balanc Distribution\", fontsize=12)\n",
    "sns.set_style(\"whitegrid\", {'grid.linestyle': '-.'})"
   ]
  },
  {
   "cell_type": "code",
   "execution_count": null,
   "id": "777619ed",
   "metadata": {},
   "outputs": [],
   "source": [
    "fig= sns.countplot(df, x=\"HasCrCard\", palette = \"Paired\")\n",
    "fig.set_xlabel(\"HasCrCard\", fontsize=12)\n",
    "fig.set_ylabel(\"Count\", fontsize=12)\n",
    "fig.set_title(\"\", fontsize=12)\n",
    "sns.set_style(\"whitegrid\", {'grid.linestyle': '-.'})"
   ]
  },
  {
   "cell_type": "code",
   "execution_count": null,
   "id": "1fc77604",
   "metadata": {},
   "outputs": [],
   "source": [
    "fig= sns.countplot(df, x=\"IsActiveMember\", palette = \"Paired\")\n",
    "fig.set_xlabel(\"IsActiveMember\", fontsize=12)\n",
    "fig.set_ylabel(\"Count\", fontsize=12)\n",
    "fig.set_title(\"\", fontsize=12)\n",
    "sns.set_style(\"whitegrid\", {'grid.linestyle': '-.'})"
   ]
  },
  {
   "cell_type": "code",
   "execution_count": null,
   "id": "160b693a",
   "metadata": {},
   "outputs": [],
   "source": [
    "fig= sns.countplot(df, x=\"Complain\", palette = \"Paired\")\n",
    "fig.set_xlabel(\"Complain\", fontsize=12)\n",
    "fig.set_ylabel(\"Count\", fontsize=12)\n",
    "fig.set_title(\"\", fontsize=12)\n",
    "sns.set_style(\"whitegrid\", {'grid.linestyle': '-.'})"
   ]
  },
  {
   "cell_type": "code",
   "execution_count": null,
   "id": "d2b0093a",
   "metadata": {},
   "outputs": [],
   "source": [
    "fig= sns.countplot(df, x=\"Card Type\", palette = \"Paired\")\n",
    "fig.set_xlabel(\"Card Type\", fontsize=12)\n",
    "fig.set_ylabel(\"Count\", fontsize=12)\n",
    "fig.set_title(\"\", fontsize=12)\n",
    "sns.set_style(\"whitegrid\", {'grid.linestyle': '-.'})"
   ]
  },
  {
   "cell_type": "markdown",
   "id": "999bd161",
   "metadata": {},
   "source": [
    "### Multivariate Analysis"
   ]
  },
  {
   "cell_type": "code",
   "execution_count": null,
   "id": "ab377a50",
   "metadata": {},
   "outputs": [],
   "source": [
    "fig= sns.histplot(df, x=\"Geography\",hue=\"Exited\",  multiple=\"dodge\", shrink=.8, palette = \"Spectral\") \n",
    "fig.set_xlabel(\"Geography\", fontsize=12)\n",
    "fig.set_ylabel(\"Count\", fontsize=12)\n",
    "fig.set_title(\"Geography vs Exited\", fontsize=12)\n",
    "fig.set_xticklabels(fig.get_xticklabels(), rotation=90)\n",
    "sns.set_style(\"whitegrid\", {'grid.linestyle': '-.'})"
   ]
  },
  {
   "cell_type": "code",
   "execution_count": null,
   "id": "4034a2d3",
   "metadata": {},
   "outputs": [],
   "source": [
    "fig= sns.histplot(df, x=\"Gender\",hue=\"Exited\",  multiple=\"dodge\", shrink=.8, palette = \"Spectral\") \n",
    "fig.set_xlabel(\"Gender\", fontsize=12)\n",
    "fig.set_ylabel(\"Count\", fontsize=12)\n",
    "fig.set_title(\"Gender vs Exited\", fontsize=12)\n",
    "fig.set_xticklabels(fig.get_xticklabels(), rotation=90)\n",
    "sns.set_style(\"whitegrid\", {'grid.linestyle': '-.'})"
   ]
  },
  {
   "cell_type": "code",
   "execution_count": null,
   "id": "72982cc6",
   "metadata": {},
   "outputs": [],
   "source": [
    "sns.kdeplot(data=df, x='Age', hue=\"Exited\", palette = \"Spectral\")"
   ]
  },
  {
   "cell_type": "code",
   "execution_count": null,
   "id": "13a7ccd1",
   "metadata": {},
   "outputs": [],
   "source": [
    "sns.kdeplot(data=df, x='Balance', hue=\"Exited\", palette = \"Spectral\")"
   ]
  },
  {
   "cell_type": "code",
   "execution_count": null,
   "id": "5ee48ec2",
   "metadata": {},
   "outputs": [],
   "source": [
    "sns.kdeplot(data=df, x='EstimatedSalary', hue=\"Exited\", palette = \"Spectral\")"
   ]
  },
  {
   "cell_type": "code",
   "execution_count": null,
   "id": "0a1ef337",
   "metadata": {},
   "outputs": [],
   "source": [
    "sns.kdeplot(data=df, x='Point Earned', hue=\"Exited\", palette = \"Spectral\")"
   ]
  },
  {
   "cell_type": "code",
   "execution_count": null,
   "id": "db00ce39",
   "metadata": {},
   "outputs": [],
   "source": [
    "fig= sns.histplot(df, x=\"Tenure\",hue=\"Exited\",  multiple=\"dodge\", shrink=.8, palette = \"Spectral\") \n",
    "fig.set_xlabel(\"Tenure\", fontsize=12)\n",
    "fig.set_ylabel(\"Count\", fontsize=12)\n",
    "fig.set_title(\"Tenure vs Exited\", fontsize=12)\n",
    "sns.set_style(\"whitegrid\", {'grid.linestyle': '-.'})"
   ]
  },
  {
   "cell_type": "code",
   "execution_count": null,
   "id": "be367800",
   "metadata": {},
   "outputs": [],
   "source": [
    "plt.rcParams['figure.figsize'] = (8,5)\n",
    "chart = df.groupby(['NumOfProducts','Exited'])['CustomerId'].count().unstack().plot(kind = 'bar')\n",
    "plt.title('', fontsize =10,  pad = 12)\n",
    "plt.xlabel('NumOfProducts')\n",
    "plt.ylabel('Count')\n",
    "plt.legend(title=\"Exited\", bbox_to_anchor = (1.3, 1), borderaxespad = 0)\n",
    "plt.show()\n"
   ]
  },
  {
   "cell_type": "code",
   "execution_count": null,
   "id": "9175d418",
   "metadata": {},
   "outputs": [],
   "source": [
    "#visualize \n",
    "plt.rcParams['figure.figsize'] = (8,5)\n",
    "chart = df.groupby(['HasCrCard','Exited'])['CustomerId'].count().unstack().plot(kind = 'bar')\n",
    "plt.title('', fontsize =10,  pad = 12)\n",
    "plt.xlabel('HasCrCard')\n",
    "plt.ylabel('Count')\n",
    "plt.legend(title=\"Exited\", bbox_to_anchor = (1.3, 1), borderaxespad = 0)\n",
    "plt.show()"
   ]
  },
  {
   "cell_type": "code",
   "execution_count": null,
   "id": "5ff2d3ad",
   "metadata": {},
   "outputs": [],
   "source": [
    "#visualize \n",
    "plt.rcParams['figure.figsize'] = (8,5)\n",
    "chart = df.groupby(['IsActiveMember','Exited'])['CustomerId'].count().unstack().plot(kind = 'bar')\n",
    "plt.title('', fontsize =10,  pad = 12)\n",
    "plt.xlabel('IsActiveMember')\n",
    "plt.ylabel('Count')\n",
    "plt.legend(title=\"Exited\", bbox_to_anchor = (1.3, 1), borderaxespad = 0)\n",
    "plt.show()"
   ]
  },
  {
   "cell_type": "code",
   "execution_count": null,
   "id": "cf451297",
   "metadata": {},
   "outputs": [],
   "source": [
    "#visualize \n",
    "plt.rcParams['figure.figsize'] = (8,5)\n",
    "chart = df.groupby(['Complain','Exited'])['CustomerId'].count().unstack().plot(kind = 'bar')\n",
    "plt.title('', fontsize =10,  pad = 12)\n",
    "plt.xlabel('Complain')\n",
    "plt.ylabel('Count')\n",
    "plt.legend(title=\"Exited\", bbox_to_anchor = (1.3, 1), borderaxespad = 0)\n",
    "plt.show()"
   ]
  },
  {
   "cell_type": "code",
   "execution_count": null,
   "id": "42a2091d",
   "metadata": {},
   "outputs": [],
   "source": [
    "fig= sns.histplot(df, x=\"Card Type\",hue=\"Exited\",  multiple=\"dodge\", palette = \"Spectral\") \n",
    "fig.set_xlabel(\"Card Type\", fontsize=12)\n",
    "fig.set_ylabel(\"Count\", fontsize=12)\n",
    "fig.set_title(\"Card Type  vs Exited\", fontsize=12)\n",
    "sns.set_style(\"whitegrid\", {'grid.linestyle': '-.'})"
   ]
  },
  {
   "cell_type": "code",
   "execution_count": null,
   "id": "462664bc",
   "metadata": {},
   "outputs": [],
   "source": []
  }
 ],
 "metadata": {
  "kernelspec": {
   "display_name": "Python 3 (ipykernel)",
   "language": "python",
   "name": "python3"
  },
  "language_info": {
   "codemirror_mode": {
    "name": "ipython",
    "version": 3
   },
   "file_extension": ".py",
   "mimetype": "text/x-python",
   "name": "python",
   "nbconvert_exporter": "python",
   "pygments_lexer": "ipython3",
   "version": "3.11.0"
  }
 },
 "nbformat": 4,
 "nbformat_minor": 5
}
